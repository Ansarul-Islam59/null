{
 "cells": [
  {
   "cell_type": "markdown",
   "id": "roman-perth",
   "metadata": {},
   "source": [
    "# About Data Types\n",
    "\n",
    "● What is Data Type? \n",
    "Everything is an object in Python programming, data types are actually classes and variables are instance (object) of these classes."
   ]
  },
  {
   "cell_type": "markdown",
   "id": "computational-shark",
   "metadata": {},
   "source": [
    "● Describe all Data Types with Example\n",
    "1.Python Numbers\n",
    "Integers, floating point numbers and complex numbers fall under Python numbers category. They are defined as int, float and complex classes in Python.\n",
    "\n",
    "We can use the type() function to know which class a variable or a value belongs to. Similarly, the isinstance() function is used to check if an object belongs to a particular class.\n",
    "2.Python List\n",
    "List is an ordered sequence of items. It is one of the most used datatype in Python and is very flexible. All the items in a list do not need to be of the same type.\n",
    "\n",
    "Declaring a list is pretty straight forward. Items separated by commas are enclosed within brackets [ ].\n",
    "3.Python Tuple\n",
    "Tuple is an ordered sequence of items same as a list. The only difference is that tuples are immutable. Tuples once created cannot be modified.\n",
    "\n",
    "Tuples are used to write-protect data and are usually faster than lists as they cannot change dynamically.\n",
    "\n",
    "It is defined within parentheses () where items are separated by commas.\n",
    "4.Python Strings\n",
    "String is sequence of Unicode characters. We can use single quotes or double quotes to represent strings. Multi-line strings can be denoted using triple quotes, ''' or \"\"\".\n",
    "5.Python Set\n",
    "Set is an unordered collection of unique items. Set is defined by values separated by comma inside braces { }. Items in a set are not ordered.\n"
   ]
  },
  {
   "cell_type": "markdown",
   "id": "retired-maria",
   "metadata": {},
   "source": [
    "# Input And Output \n",
    "\n"
   ]
  },
  {
   "cell_type": "code",
   "execution_count": null,
   "id": "forbidden-information",
   "metadata": {},
   "outputs": [],
   "source": []
  },
  {
   "cell_type": "code",
   "execution_count": null,
   "id": "advance-coordinate",
   "metadata": {},
   "outputs": [],
   "source": []
  },
  {
   "cell_type": "markdown",
   "id": "neither-slide",
   "metadata": {},
   "source": [
    "# Operator \n",
    "What is a python operator? Describe at least three types of operator. \n",
    "Operators are special symbols in Python that carry out arithmetic or logical computation. The value that the operator operates on is called the operand.\n",
    "Arithmetic operators\n",
    "Arithmetic operators are used to perform mathematical operations like addition, subtraction, multiplication, etc.\n",
    "Comparison operators\n",
    "Comparison operators are used to compare values. It returns either True or False according to the condition.\n",
    "Logical operators\n",
    "\n",
    "Logical operators are the and, or, not operators"
   ]
  },
  {
   "cell_type": "markdown",
   "id": "metric-sixth",
   "metadata": {},
   "source": [
    "# Problem 1 "
   ]
  },
  {
   "cell_type": "markdown",
   "id": "employed-information",
   "metadata": {},
   "source": [
    "#### Define a list with 7 elements and print the 3rd element of the list.\n"
   ]
  },
  {
   "cell_type": "code",
   "execution_count": 1,
   "id": "scientific-isaac",
   "metadata": {},
   "outputs": [
    {
     "name": "stdout",
     "output_type": "stream",
     "text": [
      "3\n"
     ]
    }
   ],
   "source": [
    "L=[1,2,3,4,5,6,7]\n",
    "l1=L[2]\n",
    "print(l1)"
   ]
  },
  {
   "cell_type": "markdown",
   "id": "southwest-devices",
   "metadata": {},
   "source": [
    "# Problem 2 \n"
   ]
  },
  {
   "cell_type": "markdown",
   "id": "compact-feelings",
   "metadata": {},
   "source": [
    "#### Take two input (say a and b) from user and print three lines where: \n",
    "1. The first line contains the sum of the two numbers. \n",
    "2. The second line contains the difference of the two numbers (first - second). 3. The third line contains the product of the two numbers. \n"
   ]
  },
  {
   "cell_type": "code",
   "execution_count": 5,
   "id": "employed-words",
   "metadata": {},
   "outputs": [
    {
     "name": "stdout",
     "output_type": "stream",
     "text": [
      "12\n",
      "8\n",
      "20\n"
     ]
    }
   ],
   "source": [
    "a=10\n",
    "b=2\n",
    "sum=a+b\n",
    "print(sum)\n",
    "difference=a-b\n",
    "print(difference)\n",
    "product=a*b\n",
    "print(product)"
   ]
  },
  {
   "cell_type": "code",
   "execution_count": null,
   "id": "absent-saudi",
   "metadata": {},
   "outputs": [],
   "source": []
  },
  {
   "cell_type": "code",
   "execution_count": null,
   "id": "incomplete-seating",
   "metadata": {},
   "outputs": [],
   "source": []
  }
 ],
 "metadata": {
  "celltoolbar": "Raw Cell Format",
  "kernelspec": {
   "display_name": "Python 3",
   "language": "python",
   "name": "python3"
  },
  "language_info": {
   "codemirror_mode": {
    "name": "ipython",
    "version": 3
   },
   "file_extension": ".py",
   "mimetype": "text/x-python",
   "name": "python",
   "nbconvert_exporter": "python",
   "pygments_lexer": "ipython3",
   "version": "3.9.2"
  }
 },
 "nbformat": 4,
 "nbformat_minor": 5
}
